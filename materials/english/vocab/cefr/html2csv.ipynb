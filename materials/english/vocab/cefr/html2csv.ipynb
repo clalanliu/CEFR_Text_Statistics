{
 "cells": [
  {
   "cell_type": "code",
   "execution_count": 1,
   "metadata": {},
   "outputs": [
    {
     "name": "stdout",
     "output_type": "stream",
     "text": [
      "Data has been saved to words_data.csv\n"
     ]
    }
   ],
   "source": [
    "import pandas as pd\n",
    "from bs4 import BeautifulSoup\n",
    "import tqdm\n",
    "# HTML data\n",
    "with open('american-english.html', 'r') as f:\n",
    "    html_data = f.read()\n",
    "\n",
    "# Parse the HTML data using BeautifulSoup\n",
    "soup = BeautifulSoup(html_data, 'html.parser')\n",
    "rows = soup.find_all('tr')\n",
    "\n",
    "# Extract the data into a list of dictionaries\n",
    "data = []\n",
    "for row in tqdm.tqdm(rows):\n",
    "    cols = row.find_all('td')\n",
    "    entry = {\n",
    "        \"Word\": cols[0].text.strip(),\n",
    "        \"Level\": cols[2].text.strip(),\n",
    "        \"Category\": cols[4].text.strip(),\n",
    "        \"Details\": cols[5].find('a')['href']\n",
    "    }\n",
    "    data.append(entry)\n",
    "\n",
    "# Create a pandas DataFrame\n",
    "df = pd.DataFrame(data)\n",
    "\n",
    "# Save the DataFrame to a CSV file\n",
    "csv_file = 'words_data.csv'\n",
    "df.to_csv(csv_file, index=False)\n",
    "\n",
    "print(f'Data has been saved to {csv_file}')"
   ]
  }
 ],
 "metadata": {
  "kernelspec": {
   "display_name": "Python 3",
   "language": "python",
   "name": "python3"
  },
  "language_info": {
   "codemirror_mode": {
    "name": "ipython",
    "version": 3
   },
   "file_extension": ".py",
   "mimetype": "text/x-python",
   "name": "python",
   "nbconvert_exporter": "python",
   "pygments_lexer": "ipython3",
   "version": "3.10.11"
  }
 },
 "nbformat": 4,
 "nbformat_minor": 2
}
