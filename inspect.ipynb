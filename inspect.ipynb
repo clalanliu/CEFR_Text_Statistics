{
 "cells": [
  {
   "cell_type": "code",
   "execution_count": 72,
   "metadata": {},
   "outputs": [
    {
     "data": {
      "text/html": [
       "<div>\n",
       "<style scoped>\n",
       "    .dataframe tbody tr th:only-of-type {\n",
       "        vertical-align: middle;\n",
       "    }\n",
       "\n",
       "    .dataframe tbody tr th {\n",
       "        vertical-align: top;\n",
       "    }\n",
       "\n",
       "    .dataframe thead th {\n",
       "        text-align: right;\n",
       "    }\n",
       "</style>\n",
       "<table border=\"1\" class=\"dataframe\">\n",
       "  <thead>\n",
       "    <tr style=\"text-align: right;\">\n",
       "      <th></th>\n",
       "      <th>word_freq_std</th>\n",
       "      <th>word_freq_mean</th>\n",
       "      <th>cefr_A1</th>\n",
       "      <th>cefr_A2</th>\n",
       "      <th>cefr_B1</th>\n",
       "      <th>cefr_B2</th>\n",
       "      <th>cefr_C1</th>\n",
       "    </tr>\n",
       "    <tr>\n",
       "      <th>label</th>\n",
       "      <th></th>\n",
       "      <th></th>\n",
       "      <th></th>\n",
       "      <th></th>\n",
       "      <th></th>\n",
       "      <th></th>\n",
       "      <th></th>\n",
       "    </tr>\n",
       "  </thead>\n",
       "  <tbody>\n",
       "    <tr>\n",
       "      <th>A1</th>\n",
       "      <td>0.000284</td>\n",
       "      <td>0.000170</td>\n",
       "      <td>30.559028</td>\n",
       "      <td>8.288194</td>\n",
       "      <td>4.597222</td>\n",
       "      <td>3.142361</td>\n",
       "      <td>1.750000</td>\n",
       "    </tr>\n",
       "    <tr>\n",
       "      <th>A2</th>\n",
       "      <td>0.000325</td>\n",
       "      <td>0.000189</td>\n",
       "      <td>67.643382</td>\n",
       "      <td>20.150735</td>\n",
       "      <td>11.915441</td>\n",
       "      <td>8.742647</td>\n",
       "      <td>3.459559</td>\n",
       "    </tr>\n",
       "    <tr>\n",
       "      <th>B1</th>\n",
       "      <td>0.000367</td>\n",
       "      <td>0.000219</td>\n",
       "      <td>102.736585</td>\n",
       "      <td>41.473171</td>\n",
       "      <td>25.707317</td>\n",
       "      <td>23.253659</td>\n",
       "      <td>8.424390</td>\n",
       "    </tr>\n",
       "    <tr>\n",
       "      <th>B2</th>\n",
       "      <td>0.000357</td>\n",
       "      <td>0.000209</td>\n",
       "      <td>107.332168</td>\n",
       "      <td>51.674825</td>\n",
       "      <td>32.884615</td>\n",
       "      <td>33.482517</td>\n",
       "      <td>14.517483</td>\n",
       "    </tr>\n",
       "    <tr>\n",
       "      <th>C1</th>\n",
       "      <td>0.000328</td>\n",
       "      <td>0.000180</td>\n",
       "      <td>132.556017</td>\n",
       "      <td>76.406639</td>\n",
       "      <td>50.850622</td>\n",
       "      <td>52.912863</td>\n",
       "      <td>23.531120</td>\n",
       "    </tr>\n",
       "  </tbody>\n",
       "</table>\n",
       "</div>"
      ],
      "text/plain": [
       "       word_freq_std  word_freq_mean     cefr_A1    cefr_A2    cefr_B1   \n",
       "label                                                                    \n",
       "A1          0.000284        0.000170   30.559028   8.288194   4.597222  \\\n",
       "A2          0.000325        0.000189   67.643382  20.150735  11.915441   \n",
       "B1          0.000367        0.000219  102.736585  41.473171  25.707317   \n",
       "B2          0.000357        0.000209  107.332168  51.674825  32.884615   \n",
       "C1          0.000328        0.000180  132.556017  76.406639  50.850622   \n",
       "\n",
       "         cefr_B2    cefr_C1  \n",
       "label                        \n",
       "A1      3.142361   1.750000  \n",
       "A2      8.742647   3.459559  \n",
       "B1     23.253659   8.424390  \n",
       "B2     33.482517  14.517483  \n",
       "C1     52.912863  23.531120  "
      ]
     },
     "execution_count": 72,
     "metadata": {},
     "output_type": "execute_result"
    }
   ],
   "source": [
    "import pandas as pd\n",
    "\n",
    "df = pd.read_csv('analyzed.csv')\n",
    "df = df.drop(['text', 'lemmatized', 'lemmatized_clean'], axis=1)\n",
    "df.groupby('label').mean().head()"
   ]
  },
  {
   "cell_type": "code",
   "execution_count": 73,
   "metadata": {},
   "outputs": [
    {
     "name": "stdout",
     "output_type": "stream",
     "text": [
      "Accuracy: 0.57\n",
      "Classification Report:\n",
      "              precision    recall  f1-score   support\n",
      "\n",
      "          A1       0.73      0.85      0.79        67\n",
      "          A2       0.47      0.50      0.49        52\n",
      "          B1       0.48      0.36      0.41        36\n",
      "          B2       0.50      0.50      0.50        54\n",
      "          C1       0.48      0.41      0.44        51\n",
      "          C2       0.61      0.64      0.62        39\n",
      "\n",
      "    accuracy                           0.57       299\n",
      "   macro avg       0.55      0.54      0.54       299\n",
      "weighted avg       0.56      0.57      0.56       299\n",
      "\n"
     ]
    }
   ],
   "source": [
    "from sklearn.model_selection import train_test_split\n",
    "from sklearn.preprocessing import LabelEncoder\n",
    "from xgboost import XGBClassifier\n",
    "from sklearn.ensemble import RandomForestClassifier\n",
    "from sklearn.tree import DecisionTreeClassifier\n",
    "from sklearn.linear_model import LogisticRegression\n",
    "from sklearn.metrics import classification_report, accuracy_score\n",
    "\n",
    "X = df.drop('label', axis=1)\n",
    "y = df['label']\n",
    "\n",
    "# Encode labels\n",
    "label_encoder = LabelEncoder()\n",
    "y = label_encoder.fit_transform(y)\n",
    "\n",
    "# Split the data into training and testing sets\n",
    "X_train, X_test, y_train, y_test = train_test_split(X, y, test_size=0.2, random_state=42, shuffle=True)\n",
    "\n",
    "# Initialize and train the XGBoost classifier\n",
    "#classifier = XGBClassifier(use_label_encoder=False, eval_metric='mlogloss')\n",
    "classifier = RandomForestClassifier()\n",
    "classifier.fit(X_train, y_train)\n",
    "\n",
    "# Make predictions\n",
    "y_pred = classifier.predict(X_test)\n",
    "\n",
    "# Evaluate the model\n",
    "accuracy = accuracy_score(y_test, y_pred)\n",
    "report = classification_report(y_test, y_pred, target_names=label_encoder.classes_)\n",
    "\n",
    "print(f'Accuracy: {accuracy:.2f}')\n",
    "print('Classification Report:')\n",
    "print(report)"
   ]
  },
  {
   "cell_type": "code",
   "execution_count": 74,
   "metadata": {},
   "outputs": [
    {
     "name": "stdout",
     "output_type": "stream",
     "text": [
      "(0.9163879598662207, 0.9163879598662207, 0.9163879598662207, 0.9163879598662207)\n"
     ]
    }
   ],
   "source": [
    "import numpy as np\n",
    "\n",
    "# Custom evaluation metrics\n",
    "def custom_metrics(y_true, y_pred):\n",
    "    y_true = np.array(y_true)\n",
    "    y_pred = np.array(y_pred)\n",
    "    correct = np.abs(y_true - y_pred) <= 1\n",
    "    \n",
    "    tp = np.sum(correct)\n",
    "    fp = np.sum(~correct)\n",
    "    fn = fp  # Since every incorrect prediction is a false positive and a false negative in this context\n",
    "\n",
    "    precision = tp / (tp + fp) if (tp + fp) > 0 else 0\n",
    "    recall = tp / (tp + fn) if (tp + fn) > 0 else 0\n",
    "    f1 = 2 * precision * recall / (precision + recall) if (precision + recall) > 0 else 0\n",
    "    \n",
    "    accuracy = tp / len(y_true)\n",
    "    \n",
    "    return accuracy, precision, recall, f1\n",
    "\n",
    "metrics = custom_metrics(y_test, y_pred)\n",
    "print(metrics)"
   ]
  },
  {
   "cell_type": "code",
   "execution_count": 75,
   "metadata": {},
   "outputs": [
    {
     "data": {
      "text/plain": [
       "['cefr_label_encoder.joblib']"
      ]
     },
     "execution_count": 75,
     "metadata": {},
     "output_type": "execute_result"
    }
   ],
   "source": [
    "import joblib\n",
    "# Save the model to a file\n",
    "joblib.dump(classifier, 'cefr_classifier.joblib')\n",
    "joblib.dump(label_encoder, 'cefr_label_encoder.joblib')"
   ]
  }
 ],
 "metadata": {
  "kernelspec": {
   "display_name": "Python 3",
   "language": "python",
   "name": "python3"
  },
  "language_info": {
   "codemirror_mode": {
    "name": "ipython",
    "version": 3
   },
   "file_extension": ".py",
   "mimetype": "text/x-python",
   "name": "python",
   "nbconvert_exporter": "python",
   "pygments_lexer": "ipython3",
   "version": "3.10.11"
  }
 },
 "nbformat": 4,
 "nbformat_minor": 2
}
